{
 "cells": [
  {
   "cell_type": "markdown",
   "id": "003bd3b6-44a1-4c15-adf7-1fd2ea81759c",
   "metadata": {},
   "source": [
    "# Technical demo Ortu Davide"
   ]
  },
  {
   "cell_type": "markdown",
   "id": "cbbbddb7-d7fe-4c3b-b5e2-ae84eb02c7e5",
   "metadata": {},
   "source": [
    "## 1.  Imports and CSV reading with Pandas"
   ]
  },
  {
   "cell_type": "code",
   "execution_count": 4,
   "id": "788beeab-515c-4425-9d75-1dd0c56d311e",
   "metadata": {},
   "outputs": [
    {
     "data": {
      "text/html": [
       "<div>\n",
       "<style scoped>\n",
       "    .dataframe tbody tr th:only-of-type {\n",
       "        vertical-align: middle;\n",
       "    }\n",
       "\n",
       "    .dataframe tbody tr th {\n",
       "        vertical-align: top;\n",
       "    }\n",
       "\n",
       "    .dataframe thead th {\n",
       "        text-align: right;\n",
       "    }\n",
       "</style>\n",
       "<table border=\"1\" class=\"dataframe\">\n",
       "  <thead>\n",
       "    <tr style=\"text-align: right;\">\n",
       "      <th></th>\n",
       "      <th>Million Plus Cities</th>\n",
       "      <th>Cause category</th>\n",
       "      <th>Cause Subcategory</th>\n",
       "      <th>Outcome of Incident</th>\n",
       "      <th>Count</th>\n",
       "    </tr>\n",
       "  </thead>\n",
       "  <tbody>\n",
       "    <tr>\n",
       "      <th>0</th>\n",
       "      <td>Agra</td>\n",
       "      <td>Traffic Control</td>\n",
       "      <td>Flashing Signal/Blinker</td>\n",
       "      <td>Greviously Injured</td>\n",
       "      <td>0.0</td>\n",
       "    </tr>\n",
       "    <tr>\n",
       "      <th>1</th>\n",
       "      <td>Agra</td>\n",
       "      <td>Traffic Control</td>\n",
       "      <td>Flashing Signal/Blinker</td>\n",
       "      <td>Minor Injury</td>\n",
       "      <td>0.0</td>\n",
       "    </tr>\n",
       "    <tr>\n",
       "      <th>2</th>\n",
       "      <td>Agra</td>\n",
       "      <td>Traffic Control</td>\n",
       "      <td>Flashing Signal/Blinker</td>\n",
       "      <td>Persons Killed</td>\n",
       "      <td>0.0</td>\n",
       "    </tr>\n",
       "    <tr>\n",
       "      <th>3</th>\n",
       "      <td>Agra</td>\n",
       "      <td>Traffic Control</td>\n",
       "      <td>Flashing Signal/Blinker</td>\n",
       "      <td>Total Injured</td>\n",
       "      <td>0.0</td>\n",
       "    </tr>\n",
       "    <tr>\n",
       "      <th>4</th>\n",
       "      <td>Agra</td>\n",
       "      <td>Traffic Control</td>\n",
       "      <td>Flashing Signal/Blinker</td>\n",
       "      <td>Total number of Accidents</td>\n",
       "      <td>0.0</td>\n",
       "    </tr>\n",
       "    <tr>\n",
       "      <th>...</th>\n",
       "      <td>...</td>\n",
       "      <td>...</td>\n",
       "      <td>...</td>\n",
       "      <td>...</td>\n",
       "      <td>...</td>\n",
       "    </tr>\n",
       "    <tr>\n",
       "      <th>9545</th>\n",
       "      <td>Vizaq</td>\n",
       "      <td>Weather</td>\n",
       "      <td>Sunny/Clear</td>\n",
       "      <td>Greviously Injured</td>\n",
       "      <td>561.0</td>\n",
       "    </tr>\n",
       "    <tr>\n",
       "      <th>9546</th>\n",
       "      <td>Vizaq</td>\n",
       "      <td>Weather</td>\n",
       "      <td>Sunny/Clear</td>\n",
       "      <td>Minor Injury</td>\n",
       "      <td>252.0</td>\n",
       "    </tr>\n",
       "    <tr>\n",
       "      <th>9547</th>\n",
       "      <td>Vizaq</td>\n",
       "      <td>Weather</td>\n",
       "      <td>Sunny/Clear</td>\n",
       "      <td>Persons Killed</td>\n",
       "      <td>176.0</td>\n",
       "    </tr>\n",
       "    <tr>\n",
       "      <th>9548</th>\n",
       "      <td>Vizaq</td>\n",
       "      <td>Weather</td>\n",
       "      <td>Sunny/Clear</td>\n",
       "      <td>Total number of Accidents</td>\n",
       "      <td>1207.0</td>\n",
       "    </tr>\n",
       "    <tr>\n",
       "      <th>9549</th>\n",
       "      <td>Vizaq</td>\n",
       "      <td>Weather</td>\n",
       "      <td>Sunny/Clear</td>\n",
       "      <td>Total Injured</td>\n",
       "      <td>813.0</td>\n",
       "    </tr>\n",
       "  </tbody>\n",
       "</table>\n",
       "<p>9550 rows × 5 columns</p>\n",
       "</div>"
      ],
      "text/plain": [
       "     Million Plus Cities   Cause category        Cause Subcategory  \\\n",
       "0                   Agra  Traffic Control  Flashing Signal/Blinker   \n",
       "1                   Agra  Traffic Control  Flashing Signal/Blinker   \n",
       "2                   Agra  Traffic Control  Flashing Signal/Blinker   \n",
       "3                   Agra  Traffic Control  Flashing Signal/Blinker   \n",
       "4                   Agra  Traffic Control  Flashing Signal/Blinker   \n",
       "...                  ...              ...                      ...   \n",
       "9545               Vizaq          Weather              Sunny/Clear   \n",
       "9546               Vizaq          Weather              Sunny/Clear   \n",
       "9547               Vizaq          Weather              Sunny/Clear   \n",
       "9548               Vizaq          Weather              Sunny/Clear   \n",
       "9549               Vizaq          Weather              Sunny/Clear   \n",
       "\n",
       "            Outcome of Incident   Count  \n",
       "0            Greviously Injured     0.0  \n",
       "1                  Minor Injury     0.0  \n",
       "2                Persons Killed     0.0  \n",
       "3                 Total Injured     0.0  \n",
       "4     Total number of Accidents     0.0  \n",
       "...                         ...     ...  \n",
       "9545         Greviously Injured   561.0  \n",
       "9546               Minor Injury   252.0  \n",
       "9547             Persons Killed   176.0  \n",
       "9548  Total number of Accidents  1207.0  \n",
       "9549              Total Injured   813.0  \n",
       "\n",
       "[9550 rows x 5 columns]"
      ]
     },
     "execution_count": 4,
     "metadata": {},
     "output_type": "execute_result"
    }
   ],
   "source": [
    "import pandas as pd\n",
    "import numpy as np\n",
    "import re\n",
    "import pytest\n",
    "dataframe = pd.read_csv(\"../../data/indian_accident.csv\")\n",
    "dataframe"
   ]
  },
  {
   "cell_type": "markdown",
   "id": "16f85165-f214-45a8-94cd-cac30e69e5f8",
   "metadata": {},
   "source": [
    "## 2. Define Functions"
   ]
  },
  {
   "cell_type": "code",
   "execution_count": 5,
   "id": "4bbfa36d-9638-4ba8-9cb5-8a725d030b7c",
   "metadata": {},
   "outputs": [],
   "source": [
    "def func1(x: pd.DataFrame, column_name: str):\n",
    "    '''\n",
    "    filter out rows if values in the given column are null values\n",
    "\n",
    "    :param x (pd.DataFrame): Tabular data as a Pandas Dataframe\n",
    "    :param column_name (string): Name of the column to filter on\n",
    "\n",
    "    :return: output pd.DataFrame\n",
    "    '''\n",
    "\n",
    "    # axis = 0, drop rows wich contain missing values\n",
    "    # how = 'any', if any null values are presente, drop the axis specified row/column(row in this case)\n",
    "    # subset = [column_name], specified the column where to check null values \n",
    "    filtered_data = x.dropna(axis = 0, how = 'any', subset=[column_name])\n",
    "    return filtered_data\n",
    "\n",
    "def clean_function (string: str):\n",
    "    '''\n",
    "    Remove all characters that appear between parentheses\n",
    "\n",
    "    :param string (str): string to clean\n",
    "    \n",
    "    :return: cleaned string\n",
    "    '''\n",
    "    \n",
    "    return re.sub(r'\\([^)]*\\)', '', string).replace('(', '').replace(')', '').strip()\n",
    "    \n",
    "def func2(x: pd.DataFrame):\n",
    "    '''\n",
    "    select and return only rows in which if Cause category is equal to Traffic Control then Cause Subcategory must be equal to Others or Police Controlled.\n",
    "    Moreover the function must “clean” the Million Plus Cities column of the selected rows removing all characters that appear between parentheses. \n",
    "    Remove the parentheses also.\n",
    "\n",
    "    :param x (pd.DataFrame: Tabular data as a Pandas DataFrame\n",
    "\n",
    "    :return: output pd.DataFrame\n",
    "    '''\n",
    "    \n",
    "    #With this condition are selected only the rows that have  Cause category equal to Traffic Control and then Cause Subcategory equal to Others or Police Controlled /\n",
    "    # 'isin' Pandas function check whether each element in the Dataframe is contained on input array values\n",
    "    # in the end the 'Milion Plus Cities' column is cleaned applying a clean_function\n",
    "    # another DataFrame is created because otherwise an error is reported (SettingWithCopyWarning: A value is trying to be set on a copy of a slice from a DataFrame)\n",
    "    filtered_data = pd.DataFrame(x[(x['Cause category'] == 'Traffic Control') & (x['Cause Subcategory'].isin(['Others','Police Controlled']))])\n",
    "\n",
    "    filtered_data['Million Plus Cities'] = filtered_data['Million Plus Cities'].apply(lambda x: clean_function(x))\n",
    "\n",
    "    return filtered_data"
   ]
  },
  {
   "cell_type": "markdown",
   "id": "9bf4829b-5c8f-4eaa-87e8-25869a91904a",
   "metadata": {},
   "source": [
    "### Define Test"
   ]
  },
  {
   "cell_type": "code",
   "execution_count": 6,
   "id": "219cfcbb-982a-4d90-ae3c-3b240507bf6b",
   "metadata": {},
   "outputs": [],
   "source": [
    "def test_Func1(x:pd.DataFrame):\n",
    "    #Secondly is checked if the application of func1, filter out the rows with null values\n",
    "    column_name = 'Count'\n",
    "    #numbers of elements null in the original dataframe\n",
    "    n_null_element_original = x[column_name].isnull().sum()\n",
    "    \n",
    "    filtered_f1 = func1(x,column_name)\n",
    "    #numbers of elements null in the filtered dataframe\n",
    "    n_null_element_filtered = filtered_f1[column_name].isnull().sum()\n",
    "    \n",
    "    #is checked that the number of filtered element is lower or equal to the original\n",
    "    #and the number of null elements in the filtered DataFrame is equal to 0\n",
    "    assert n_null_element_filtered <= n_null_element_original\n",
    "    assert n_null_element_filtered == 0\n",
    "\n",
    "def test_Func2(x:pd.DataFrame):\n",
    "    #numbers of values that have '(' character  in Million Plus Cities column in the original dataframe\n",
    "    not_cleaned_dataframe_dirty_values = x['Million Plus Cities'].apply(lambda x : '(' in x).sum()\n",
    "    \n",
    "    cleaned_dataframe = func2(x)\n",
    "    #numbers of values that have '(' character  in Million Plus Cities column in the filtered dataframe\n",
    "    cleaned_dataframe_dirty_values = cleaned_dataframe['Million Plus Cities'].apply(lambda x : '(' in x).sum()\n",
    "\n",
    "    #is checked that the number of filtered element is lower or equal to the original\n",
    "    #and the number of null elements in the filtered DataFrame is equal to 0\n",
    "    assert cleaned_dataframe_dirty_values <= not_cleaned_dataframe_dirty_values\n",
    "    assert cleaned_dataframe_dirty_values == 0"
   ]
  },
  {
   "cell_type": "markdown",
   "id": "b20a68b4-75b7-49b5-bec7-d9700d006cf4",
   "metadata": {},
   "source": [
    "## 3. Func1 Test"
   ]
  },
  {
   "cell_type": "code",
   "execution_count": 4,
   "id": "00873057-45cf-409f-a98b-9c73db1971d2",
   "metadata": {},
   "outputs": [
    {
     "name": "stdout",
     "output_type": "stream",
     "text": [
      "Million Plus Cities    0\n",
      "Cause category         0\n",
      "Cause Subcategory      0\n",
      "Outcome of Incident    0\n",
      "Count                  3\n",
      "dtype: int64\n"
     ]
    }
   ],
   "source": [
    "#First is checked what column have null values and how much does it have\n",
    "print(dataframe.isnull().sum())"
   ]
  },
  {
   "cell_type": "code",
   "execution_count": 5,
   "id": "58342a2e-8e4b-4eec-9a94-b1c4925d0bc0",
   "metadata": {},
   "outputs": [
    {
     "name": "stdout",
     "output_type": "stream",
     "text": [
      "Before func1: 3\n",
      "After func1: 0\n"
     ]
    }
   ],
   "source": [
    "#Secondly is checked if the application of func1, filter out the rows with null values\n",
    "column_name = 'Count'\n",
    "print('Before func1:', dataframe[column_name].isnull().sum())\n",
    "filtered_f1 = func1(dataframe,column_name)\n",
    "print('After func1:',filtered_f1[column_name].isnull().sum())"
   ]
  },
  {
   "cell_type": "code",
   "execution_count": 6,
   "id": "e86e031b-db53-42c4-b6c3-76f9733f115a",
   "metadata": {},
   "outputs": [
    {
     "name": "stdout",
     "output_type": "stream",
     "text": [
      "Index([7056, 7057, 7058], dtype='int64')\n",
      "Index([], dtype='int64')\n"
     ]
    }
   ],
   "source": [
    "#To ensure that the null rows have been deleted, the index of null rows in the orginal DataFrame is printed and compared with the filtered Dataframe.\n",
    "print(dataframe[dataframe.isnull().any(axis=1)].index)\n",
    "print(filtered_f1[filtered_f1.isnull().any(axis=1)].index)"
   ]
  },
  {
   "cell_type": "code",
   "execution_count": 10,
   "id": "29f39773-610a-44ee-95e7-ffab91d08ef4",
   "metadata": {},
   "outputs": [],
   "source": [
    "test_Func1(dataframe)"
   ]
  },
  {
   "cell_type": "markdown",
   "id": "2461d761-ef7b-427f-afb1-73ac523d1cee",
   "metadata": {},
   "source": [
    "## 4. Func2 Test"
   ]
  },
  {
   "cell_type": "code",
   "execution_count": 7,
   "id": "9ba9b488-2990-41dc-9639-26b7d3350f4d",
   "metadata": {},
   "outputs": [],
   "source": [
    "#the second function is applied to the dataframe\n",
    "filtered_f2 = func2(dataframe)"
   ]
  },
  {
   "cell_type": "code",
   "execution_count": 8,
   "id": "546a8065-d90e-452f-ac48-7e0c4ffb21b2",
   "metadata": {},
   "outputs": [
    {
     "data": {
      "text/plain": [
       "191"
      ]
     },
     "execution_count": 8,
     "metadata": {},
     "output_type": "execute_result"
    }
   ],
   "source": [
    "#is checked how many values of Million Plus Cities have '(' character\n",
    "dataframe['Million Plus Cities'].apply(lambda x : '(' in x).sum()"
   ]
  },
  {
   "cell_type": "code",
   "execution_count": 9,
   "id": "8345d95b-205e-4d35-9477-bf8432a80f9d",
   "metadata": {},
   "outputs": [
    {
     "data": {
      "text/plain": [
       "0"
      ]
     },
     "execution_count": 9,
     "metadata": {},
     "output_type": "execute_result"
    }
   ],
   "source": [
    "# after func2 application, is expected that the number of values of Million Plus Cities are equal to 0\n",
    "filtered_f2['Million Plus Cities'].apply(lambda x : '(' in x).sum()"
   ]
  },
  {
   "cell_type": "code",
   "execution_count": 7,
   "id": "440da5a3-e18a-4948-8f43-18a5c75019fe",
   "metadata": {},
   "outputs": [
    {
     "ename": "AssertionError",
     "evalue": "",
     "output_type": "error",
     "traceback": [
      "\u001b[1;31m---------------------------------------------------------------------------\u001b[0m",
      "\u001b[1;31mAssertionError\u001b[0m                            Traceback (most recent call last)",
      "Cell \u001b[1;32mIn[7], line 1\u001b[0m\n\u001b[1;32m----> 1\u001b[0m \u001b[43mtest_Func2\u001b[49m\u001b[43m(\u001b[49m\u001b[43mdataframe\u001b[49m\u001b[43m)\u001b[49m\n",
      "Cell \u001b[1;32mIn[6], line 27\u001b[0m, in \u001b[0;36mtest_Func2\u001b[1;34m(x)\u001b[0m\n\u001b[0;32m     24\u001b[0m \u001b[38;5;66;03m#is checked that the number of filtered element is lower or equal to the original\u001b[39;00m\n\u001b[0;32m     25\u001b[0m \u001b[38;5;66;03m#and the number of null elements in the filtered DataFrame is equal to 0\u001b[39;00m\n\u001b[0;32m     26\u001b[0m \u001b[38;5;28;01massert\u001b[39;00m cleaned_dataframe_dirty_values \u001b[38;5;241m<\u001b[39m\u001b[38;5;241m=\u001b[39m not_cleaned_dataframe_dirty_values\n\u001b[1;32m---> 27\u001b[0m \u001b[38;5;28;01massert\u001b[39;00m not_cleaned_dataframe_dirty_values \u001b[38;5;241m==\u001b[39m \u001b[38;5;241m0\u001b[39m\n",
      "\u001b[1;31mAssertionError\u001b[0m: "
     ]
    }
   ],
   "source": [
    "test_Func2(dataframe)"
   ]
  },
  {
   "cell_type": "code",
   "execution_count": null,
   "id": "4fc00b8e-22b2-49e8-a956-3a19a262f778",
   "metadata": {},
   "outputs": [],
   "source": []
  }
 ],
 "metadata": {
  "kernelspec": {
   "display_name": "Python 3 (ipykernel)",
   "language": "python",
   "name": "python3"
  },
  "language_info": {
   "codemirror_mode": {
    "name": "ipython",
    "version": 3
   },
   "file_extension": ".py",
   "mimetype": "text/x-python",
   "name": "python",
   "nbconvert_exporter": "python",
   "pygments_lexer": "ipython3",
   "version": "3.11.2"
  }
 },
 "nbformat": 4,
 "nbformat_minor": 5
}
